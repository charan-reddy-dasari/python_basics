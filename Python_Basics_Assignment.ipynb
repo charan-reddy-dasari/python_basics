{
  "nbformat": 4,
  "nbformat_minor": 0,
  "metadata": {
    "colab": {
      "provenance": []
    },
    "kernelspec": {
      "name": "python3",
      "display_name": "Python 3"
    },
    "language_info": {
      "name": "python"
    }
  },
  "cells": [
    {
      "cell_type": "markdown",
      "source": [
        "# Python Basics"
      ],
      "metadata": {
        "id": "BUOHx429KKhs"
      }
    },
    {
      "cell_type": "markdown",
      "source": [
        "     1. What is Python, and why is it popular?\n",
        "        - python is high level, general purpose, object oriented, portable, interpreted programming language.\n",
        "        - python is very popular programming language because of its rich collection of libraries, there are nearly 137000 inbuilt libraries which are currently available.\n",
        "        - python has large active community(a group of people who implement and publish the code for others to reuse).\n",
        "     \n",
        "     2. What is an interpreter in Python?\n",
        "        - There are mainly 2 types of programming languages\n",
        "            - complier based languages\n",
        "            - interpreter based languages.\n",
        "        - Complier checks the syntax, semantics errors entirely from top to bottom then if code is error free it will execute. Ex: C, C++\n",
        "        - Interpreter checks the syntax and semantic errors line by line if a line is error free it will execute, interpreter halts the execution only when a line contains any error. Ex: Python\n",
        "     \n",
        "     3. What are pre-defined keywords in Python?\n",
        "        - Keywords: a special set of words which have specific purpose in the programming language are called keywords.\n",
        "        - we can't use keywords as name for our variables and methods.\n",
        "        - Ex: int, float, string, if, elif, return, pass etc.\n",
        "     \n",
        "     4. Can keywords be used as variable names?\n",
        "        - No, we can't use keywords as variable names.\n",
        "     \n",
        "     5. What is mutability in Python?\n",
        "        - Mutability: ability to change something.\n",
        "        - if we are able to change the value of something then it is mutable.\n",
        "        - if we can't able to change the value of something then it is immutable.\n",
        "     \n",
        "     6. Why are lists mutable, but tuples are immutable?\n",
        "        - Lists are mutable, because we can change the order of items and we can add more items as well.\n",
        "        - Tuples are immutable, because we can't change the order of items and we can't add new values also.\n",
        "     \n",
        "     7. What is the difference between “==” and “is” operators in Python?\n",
        "        - \"==\" is conditional operator which checks whether both objects are having same content/data inside it or not.\n",
        "        - \"is\" is indentity operator which checks whether both objects are refering to the same block of memory in 'RAM' or not.\n",
        "        - Ex: l1 = [1,2,3,4,5]\n",
        "              l2 = [1,2,3,4,5]\n",
        "              print(l1 == l2) // return True\n",
        "              print(l1 is l2) // return False\n",
        "\n",
        "\n",
        "     8. What are logical operators in Python?\n",
        "        - Logical Operators: Operators which deals with boolean algebra, used to connect two or more expressions.\n",
        "        - Logical Operators in Python: AND, OR, NOT.\n",
        "     \n",
        "     9. What is type casting in Python?\n",
        "        - Casting: changing from one type to other type is called Casting.\n",
        "        - Casting in python: changing the data type of a variable from one to another is called type casting.\n",
        "        - int(18.6) --> it changes 18.6 to 18\n",
        "        - float(18) --> it changed 18 to 18.0\n",
        "     \n",
        "     10. What is the difference between implicit and explicit type casting?\n",
        "        - Implicit type casting: casting data type of a variable automatically with out any function/method.\n",
        "          a = 7\n",
        "          b = 10.5\n",
        "          c = a+b\n",
        "\n",
        "          here is c is automatically casted to float because it is float addition.\n",
        "\n",
        "        - Explicit type casting: casting data type of a variable using some method/function.\n",
        "          a = 10.7\n",
        "          a = int(a)\n",
        "\n",
        "          here a coverts to 10, means float coverts to int.\n",
        "      \n",
        "     11. What is the purpose of conditional statements in Python?\n",
        "          - conditonal statements: In a program or in real life there are some situations where we have to choose 1 path among two or more paths, in such situation we need to consider few conditions to choose correct path, conditional statements are the statements which are used to take such type of decisions.\n",
        "          - Ex: a>=b, a==b, a!=b etc\n",
        "          - syntax:\n",
        "              if(condition-1):\n",
        "                  // block of code-1\n",
        "              elif(condition-2):\n",
        "                  // block of code-2\n",
        "              else:\n",
        "                  // block of code-3\n",
        "\n",
        "            - if condition-1 is true, only block of code-1 executes, block of code-2 and block of code-3 will not execute.\n",
        "            - if condition-1 is false and condtion-2 is true, only block of code-2 will executes.\n",
        "            - if both condition-1 and condition-2 are false then block of code-3 automatically executes.\n",
        "\n",
        "      12. How does the elif statement work?\n",
        "            - elif is keyword which originates from 'else if'.\n",
        "            - C and C++ uses 'else if'\n",
        "            - python uses 'elif'\n",
        "            - 'elif' block is depended on 'if' block, every 'elif' block should have a dedicated 'if' block just above it.\n",
        "            - 'elif' block executes only if 'if' block condition is false.\n",
        "            - it is not mandatory that every 'elif' block should have a 'else' block.\n",
        "      \n",
        "      13. What is the difference between for and while loops?\n",
        "            - both are loop statements, any loop statements has three parts counter initialization, counter increment, step.\n",
        "            - in For loop, all three steps are performed in same statement.\n",
        "            - in While loop, these three steps are performed in three different statement.\n",
        "            - For loop syntax:\n",
        "                    for i in range(start, stop, step):\n",
        "            - While loop syntax:\n",
        "                    while(condition):\n",
        "                  \n",
        "      14.  Describe a scenario where a while loop is more suitable than a for loop?\n",
        "            - While loop: iterate the block of code untill a particular statement become false.\n",
        "            - Scenario where a while loop is more suitable than a for loop:\n",
        "    \n",
        "                iterate block of code untill 'a' is greater than 0\n",
        "\n",
        "                a = 1024\n",
        "                while(a>0):\n",
        "                    print(a)\n",
        "                    a /= 10\n",
        "\n",
        "\n",
        "                        \n",
        "\n",
        "\n",
        "\n"
      ],
      "metadata": {
        "id": "fjwZrPWPKZlK"
      }
    },
    {
      "cell_type": "code",
      "source": [
        "# 1. Write a Python program to print \"Hello, World!\"?\n",
        "\n",
        "print(\"Hello, World!\")"
      ],
      "metadata": {
        "colab": {
          "base_uri": "https://localhost:8080/"
        },
        "id": "eAYeDHn1yLT4",
        "outputId": "7b0c03d0-c7dd-4a55-f88b-6b5cf60e503d"
      },
      "execution_count": null,
      "outputs": [
        {
          "output_type": "stream",
          "name": "stdout",
          "text": [
            "Hello, World!\n"
          ]
        }
      ]
    },
    {
      "cell_type": "code",
      "source": [
        "# 2. Write a Python program that displays your name and age?\n",
        "\n",
        "name = \"Dasari Charan Srinivas Kumar reddy\"\n",
        "age = 24\n",
        "print(f\"my name is {name} and age is {age}\")"
      ],
      "metadata": {
        "colab": {
          "base_uri": "https://localhost:8080/"
        },
        "id": "PYOhShoZyY8a",
        "outputId": "8651e23b-670f-4e6a-8861-3fcf736c6331"
      },
      "execution_count": null,
      "outputs": [
        {
          "output_type": "stream",
          "name": "stdout",
          "text": [
            "my name is Dasari Charan Srinivas Kumar reddy and age is 24\n"
          ]
        }
      ]
    },
    {
      "cell_type": "code",
      "source": [
        "# 3. Write code to print all the pre-defined keywords in Python using the keyword library?\n",
        "\n",
        "import keyword\n",
        "keyword.kwlist\n"
      ],
      "metadata": {
        "colab": {
          "base_uri": "https://localhost:8080/"
        },
        "id": "tkeWBPeEypBz",
        "outputId": "e3acc8b4-9958-4235-dbe2-2c9dffd8c00c"
      },
      "execution_count": null,
      "outputs": [
        {
          "output_type": "execute_result",
          "data": {
            "text/plain": [
              "['False',\n",
              " 'None',\n",
              " 'True',\n",
              " 'and',\n",
              " 'as',\n",
              " 'assert',\n",
              " 'async',\n",
              " 'await',\n",
              " 'break',\n",
              " 'class',\n",
              " 'continue',\n",
              " 'def',\n",
              " 'del',\n",
              " 'elif',\n",
              " 'else',\n",
              " 'except',\n",
              " 'finally',\n",
              " 'for',\n",
              " 'from',\n",
              " 'global',\n",
              " 'if',\n",
              " 'import',\n",
              " 'in',\n",
              " 'is',\n",
              " 'lambda',\n",
              " 'nonlocal',\n",
              " 'not',\n",
              " 'or',\n",
              " 'pass',\n",
              " 'raise',\n",
              " 'return',\n",
              " 'try',\n",
              " 'while',\n",
              " 'with',\n",
              " 'yield']"
            ]
          },
          "metadata": {},
          "execution_count": 3
        }
      ]
    },
    {
      "cell_type": "code",
      "source": [
        "# 4. Write a program that checks if a given word is a Python keyword?\n",
        "\n",
        "word = input(\"enter word : \")\n",
        "if keyword.iskeyword(word):\n",
        "  print(\"given word is keyword\")\n",
        "else:\n",
        "  print(\"given word is not keyword\")"
      ],
      "metadata": {
        "colab": {
          "base_uri": "https://localhost:8080/"
        },
        "id": "0fYzY1DQzJZ3",
        "outputId": "59f6978b-7587-44d8-c629-1808125ce5ab"
      },
      "execution_count": null,
      "outputs": [
        {
          "output_type": "stream",
          "name": "stdout",
          "text": [
            "enter word : key\n",
            "given word is not keyword\n"
          ]
        }
      ]
    },
    {
      "cell_type": "code",
      "source": [
        "# 5.  Create a list and tuple in Python, and demonstrate how attempting to change an element works differently for each?\n",
        "\n",
        "list1 = [1,2,3,4,5]\n",
        "tuple1 = (1,2,3,4,5)\n",
        "\n",
        "tuple1[2] = 6"
      ],
      "metadata": {
        "colab": {
          "base_uri": "https://localhost:8080/",
          "height": 176
        },
        "id": "49sVYqWJzbxg",
        "outputId": "c8c6c092-ecb0-4ddf-dd8f-7fbcd82071b4"
      },
      "execution_count": null,
      "outputs": [
        {
          "output_type": "error",
          "ename": "TypeError",
          "evalue": "'tuple' object does not support item assignment",
          "traceback": [
            "\u001b[0;31m---------------------------------------------------------------------------\u001b[0m",
            "\u001b[0;31mTypeError\u001b[0m                                 Traceback (most recent call last)",
            "\u001b[0;32m<ipython-input-7-b41ad44d1bd2>\u001b[0m in \u001b[0;36m<cell line: 6>\u001b[0;34m()\u001b[0m\n\u001b[1;32m      4\u001b[0m \u001b[0mtuple1\u001b[0m \u001b[0;34m=\u001b[0m \u001b[0;34m(\u001b[0m\u001b[0;36m1\u001b[0m\u001b[0;34m,\u001b[0m\u001b[0;36m2\u001b[0m\u001b[0;34m,\u001b[0m\u001b[0;36m3\u001b[0m\u001b[0;34m,\u001b[0m\u001b[0;36m4\u001b[0m\u001b[0;34m,\u001b[0m\u001b[0;36m5\u001b[0m\u001b[0;34m)\u001b[0m\u001b[0;34m\u001b[0m\u001b[0;34m\u001b[0m\u001b[0m\n\u001b[1;32m      5\u001b[0m \u001b[0;34m\u001b[0m\u001b[0m\n\u001b[0;32m----> 6\u001b[0;31m \u001b[0mtuple1\u001b[0m\u001b[0;34m[\u001b[0m\u001b[0;36m2\u001b[0m\u001b[0;34m]\u001b[0m \u001b[0;34m=\u001b[0m \u001b[0;36m6\u001b[0m\u001b[0;34m\u001b[0m\u001b[0;34m\u001b[0m\u001b[0m\n\u001b[0m",
            "\u001b[0;31mTypeError\u001b[0m: 'tuple' object does not support item assignment"
          ]
        }
      ]
    },
    {
      "cell_type": "code",
      "source": [
        "list1[2] = 6\n",
        "print(list1)"
      ],
      "metadata": {
        "colab": {
          "base_uri": "https://localhost:8080/"
        },
        "id": "42ZfhaKM1bFv",
        "outputId": "82780cff-2fb7-43de-df73-6fba86c90116"
      },
      "execution_count": null,
      "outputs": [
        {
          "output_type": "stream",
          "name": "stdout",
          "text": [
            "[1, 2, 6, 4, 5]\n"
          ]
        }
      ]
    },
    {
      "cell_type": "code",
      "source": [
        "# 6. Write a function to demonstrate the behavior of mutable and immutable arguments?\n",
        "\n",
        "# mutable arguments : python objects which can be changed when they passes as a argument to a function/method are mutable arguments. Ex: list, set, dictionary.\n",
        "\n",
        "# immutable arguments : python objects which cannot be changed when they passes as a argument to a function/method are immutable arguments. Ex: integers, floats, tuples.\n",
        "\n",
        "def func(num, lst):\n",
        "  print(f\"inside func before changing num : {num} and lst : {lst}\")\n",
        "  num += 10\n",
        "  lst.append(10)\n",
        "  print(f\"inside func after changing num : {num} and lst : {lst}\")\n",
        "lst = [1,2,3,4]\n",
        "num = 10\n",
        "print(f\"before calling func lst : {lst}\")\n",
        "print(f\"before calling func num : {num}\")\n",
        "func(num, lst)\n",
        "print(f\"after calling func lst : {lst}\")\n",
        "print(f\"after calling func num : {num}\")"
      ],
      "metadata": {
        "colab": {
          "base_uri": "https://localhost:8080/"
        },
        "id": "Of3gJZBf1hL9",
        "outputId": "241310c7-d6c6-4e8f-97c4-814080f711f0"
      },
      "execution_count": null,
      "outputs": [
        {
          "output_type": "stream",
          "name": "stdout",
          "text": [
            "before calling func lst : [1, 2, 3, 4]\n",
            "before calling func num : 10\n",
            "inside func before changing num : 10 and lst : [1, 2, 3, 4]\n",
            "inside func after changing num : 20 and lst : [1, 2, 3, 4, 10]\n",
            "after calling func lst : [1, 2, 3, 4, 10]\n",
            "after calling func num : 10\n"
          ]
        }
      ]
    },
    {
      "cell_type": "code",
      "source": [
        "# 7. Write a function to demonstrate the behavior of mutable and immutable arguments?\n",
        "\n",
        "# mutable arguments : python objects which can be changed when they passes as a argument to a function/method are mutable arguments. Ex: list, set, dictionary.\n",
        "\n",
        "# immutable arguments : python objects which cannot be changed when they passes as a argument to a function/method are immutable arguments. Ex: integers, floats, tuples.\n",
        "\n",
        "def func(num, lst):\n",
        "  print(f\"inside func before changing num : {num} and lst : {lst}\")\n",
        "  num += 10\n",
        "  lst.append(10)\n",
        "  print(f\"inside func after changing num : {num} and lst : {lst}\")\n",
        "lst = [1,2,3,4]\n",
        "num = 10\n",
        "print(f\"before calling func lst : {lst}\")\n",
        "print(f\"before calling func num : {num}\")\n",
        "func(num, lst)\n",
        "print(f\"after calling func lst : {lst}\")\n",
        "print(f\"after calling func num : {num}\")"
      ],
      "metadata": {
        "colab": {
          "base_uri": "https://localhost:8080/"
        },
        "id": "i1n_joO_4EGj",
        "outputId": "2ee491c8-c623-4d24-b1da-0e935c7fdeb1"
      },
      "execution_count": null,
      "outputs": [
        {
          "output_type": "stream",
          "name": "stdout",
          "text": [
            "before calling func lst : [1, 2, 3, 4]\n",
            "before calling func num : 10\n",
            "inside func before changing num : 10 and lst : [1, 2, 3, 4]\n",
            "inside func after changing num : 20 and lst : [1, 2, 3, 4, 10]\n",
            "after calling func lst : [1, 2, 3, 4, 10]\n",
            "after calling func num : 10\n"
          ]
        }
      ]
    },
    {
      "cell_type": "code",
      "source": [
        "# 8. Write a program to demonstrate the use of logical operators\n",
        "\n",
        "# logical operators: AND, OR, NOT used to connect two or more expressions\n",
        "\n",
        "print(True and True)\n",
        "print(True and False)\n",
        "print(False and False)\n",
        "print(1 and 1)\n",
        "print(0 and 12)\n",
        "print(1 or 1)\n",
        "print(True or True)\n",
        "print(True or False)\n",
        "print(False or False)\n",
        "print(12<=0 and 13>=12)\n",
        "print(12 == 12 and 15 >= 12)\n",
        "print(not True)\n",
        "print(not False)\n",
        "print(not not True)\n"
      ],
      "metadata": {
        "colab": {
          "base_uri": "https://localhost:8080/"
        },
        "id": "chKHs8Sq8Ms-",
        "outputId": "c80a9a18-900b-4593-9c3d-03a499d4cab4"
      },
      "execution_count": null,
      "outputs": [
        {
          "output_type": "stream",
          "name": "stdout",
          "text": [
            "True\n",
            "False\n",
            "False\n",
            "1\n",
            "0\n",
            "1\n",
            "True\n",
            "True\n",
            "False\n",
            "False\n",
            "True\n",
            "False\n",
            "True\n",
            "True\n"
          ]
        }
      ]
    },
    {
      "cell_type": "code",
      "source": [
        "# 9. Write a Python program to convert user input from string to integer, float, and boolean types?\n",
        "\n",
        "inp = input(\"enter input : \")\n",
        "int_val = int(inp)\n",
        "float_val = float(inp)\n",
        "bool_val = bool(inp)\n",
        "print(int_val)\n",
        "print(float_val)\n",
        "print(bool_val)"
      ],
      "metadata": {
        "colab": {
          "base_uri": "https://localhost:8080/"
        },
        "id": "8Mw1KW5N_vC2",
        "outputId": "ddd62e88-032d-4ba3-cb08-9cc643d306ab"
      },
      "execution_count": null,
      "outputs": [
        {
          "output_type": "stream",
          "name": "stdout",
          "text": [
            "enter input : 10\n",
            "10\n",
            "10.0\n",
            "True\n"
          ]
        }
      ]
    },
    {
      "cell_type": "code",
      "source": [
        "# 10. Write code to demonstrate type casting with list elements?\n",
        "\n",
        "# list contains 5 elements which are different datatypes and I'm type casting each element into string datatype.\n",
        "l1 = [10, 20.5, True, 'Charan', None]\n",
        "for i in range(len(l1)):\n",
        "  l1[i] = str(l1[i])\n",
        "print(l1)\n",
        "\n"
      ],
      "metadata": {
        "colab": {
          "base_uri": "https://localhost:8080/"
        },
        "id": "DIbBFD26AMcE",
        "outputId": "db50c433-a707-48e5-b1d6-3ee07e2dc79a"
      },
      "execution_count": null,
      "outputs": [
        {
          "output_type": "stream",
          "name": "stdout",
          "text": [
            "['10', '20.5', 'True', 'Charan', 'None']\n"
          ]
        }
      ]
    },
    {
      "cell_type": "code",
      "source": [
        "# 11. Write a program that checks if a number is positive, negative, or zero?\n",
        "\n",
        "num = int(input(\"enter number : \"))\n",
        "if num>0:\n",
        "  print(\"positive\")\n",
        "elif num<0:\n",
        "  print(\"negative\")\n",
        "else:\n",
        "  print(\"zero\")"
      ],
      "metadata": {
        "colab": {
          "base_uri": "https://localhost:8080/"
        },
        "id": "6671jfIDAoX6",
        "outputId": "ddab8eb1-3441-43a4-bef4-308a63b77225"
      },
      "execution_count": null,
      "outputs": [
        {
          "output_type": "stream",
          "name": "stdout",
          "text": [
            "enter number : 10\n",
            "positive\n"
          ]
        }
      ]
    },
    {
      "cell_type": "code",
      "source": [
        "# 12.  Write a for loop to print numbers from 1 to 10?\n",
        "\n",
        "for i in range(1,11,1):\n",
        "  print(i)"
      ],
      "metadata": {
        "colab": {
          "base_uri": "https://localhost:8080/"
        },
        "id": "zmU3HtGmA-iW",
        "outputId": "479167af-bfc6-43e4-fa56-379cf9e742b3"
      },
      "execution_count": null,
      "outputs": [
        {
          "output_type": "stream",
          "name": "stdout",
          "text": [
            "1\n",
            "2\n",
            "3\n",
            "4\n",
            "5\n",
            "6\n",
            "7\n",
            "8\n",
            "9\n",
            "10\n"
          ]
        }
      ]
    },
    {
      "cell_type": "code",
      "source": [
        "# 13. Write a Python program to find the sum of all even numbers between 1 and 50?\n",
        "sum = 0\n",
        "for i in range(2,51,2):\n",
        "  sum += i\n",
        "print(sum)"
      ],
      "metadata": {
        "colab": {
          "base_uri": "https://localhost:8080/"
        },
        "id": "Ya-2ISgMBL5T",
        "outputId": "ffda5126-c8cf-4f64-ed0d-14fb2f062442"
      },
      "execution_count": 25,
      "outputs": [
        {
          "output_type": "stream",
          "name": "stdout",
          "text": [
            "650\n"
          ]
        }
      ]
    },
    {
      "cell_type": "code",
      "source": [
        "sum = 0\n",
        "for i in range(1,51):\n",
        "  if i % 2 == 0:\n",
        "    sum += i\n",
        "print(sum)"
      ],
      "metadata": {
        "colab": {
          "base_uri": "https://localhost:8080/"
        },
        "id": "xj5zvW0-BbGe",
        "outputId": "446e4c46-9471-4500-c2b6-c8a6ec840e6a"
      },
      "execution_count": 24,
      "outputs": [
        {
          "output_type": "stream",
          "name": "stdout",
          "text": [
            "650\n"
          ]
        }
      ]
    },
    {
      "cell_type": "code",
      "source": [
        "# 14. Write a program to reverse a string using a while loop?\n",
        "\n",
        "word = \"physics wallah\"\n",
        "i = len(word)-1\n",
        "while(i>=0):\n",
        "  print(word[i], end=\"\")\n",
        "  i -= 1"
      ],
      "metadata": {
        "colab": {
          "base_uri": "https://localhost:8080/"
        },
        "id": "1TYKpW_CBp7Z",
        "outputId": "a451c5d6-08b3-41a0-b064-9b0d2527d934"
      },
      "execution_count": null,
      "outputs": [
        {
          "output_type": "stream",
          "name": "stdout",
          "text": [
            "hallaw scisyhp"
          ]
        }
      ]
    },
    {
      "cell_type": "code",
      "source": [
        "# 15. Write a Python program to calculate the factorial of a number provided by the user using a while loop?\n",
        "\n",
        "num = int(input(\"enter number : \"))\n",
        "answer = 1\n",
        "while(num>0):\n",
        "  answer = answer*num\n",
        "  num -= 1\n",
        "print(answer)"
      ],
      "metadata": {
        "colab": {
          "base_uri": "https://localhost:8080/"
        },
        "id": "6bgJwVbdCGbo",
        "outputId": "a03ceba7-c704-406c-f5bf-759d073db98f"
      },
      "execution_count": null,
      "outputs": [
        {
          "output_type": "stream",
          "name": "stdout",
          "text": [
            "enter number : 5\n",
            "120\n"
          ]
        }
      ]
    },
    {
      "cell_type": "code",
      "source": [],
      "metadata": {
        "id": "43qrkvHED_YC"
      },
      "execution_count": null,
      "outputs": []
    }
  ]
}
